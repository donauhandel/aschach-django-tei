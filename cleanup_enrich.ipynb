{
 "cells": [
  {
   "cell_type": "markdown",
   "metadata": {},
   "source": [
    "# Clean and enrich\n",
    "some simple scripts to \n",
    "* remove superfluos objects\n",
    "* denormalize some properties\n",
    "* enrich by data conversion"
   ]
  },
  {
   "cell_type": "code",
   "execution_count": null,
   "metadata": {},
   "outputs": [],
   "source": [
    "from appcreator.import_utils import fetch_models"
   ]
  },
  {
   "cell_type": "code",
   "execution_count": null,
   "metadata": {},
   "outputs": [],
   "source": [
    "app_name = 'aschach'"
   ]
  },
  {
   "cell_type": "code",
   "execution_count": null,
   "metadata": {},
   "outputs": [],
   "source": [
    "for x in fetch_models(app_name):\n",
    "    empty_ones = x.objects.filter(orig_data_csv=None)\n",
    "    print(f\"model: {x}, empty_obj: {len(empty_ones)}\")\n",
    "#     [e.delete() for e in empty_ones]"
   ]
  },
  {
   "cell_type": "code",
   "execution_count": null,
   "metadata": {},
   "outputs": [],
   "source": [
    "# [x.save() for x in Angabe.objects.all()]"
   ]
  },
  {
   "cell_type": "code",
   "execution_count": null,
   "metadata": {},
   "outputs": [],
   "source": [
    "# [x.save() for x in Person.objects.all()]"
   ]
  },
  {
   "cell_type": "code",
   "execution_count": null,
   "metadata": {},
   "outputs": [],
   "source": [
    "for x in WareLadung.objects.filter(maut_s=None):\n",
    "    x.maut_s = 0\n",
    "    x.save()"
   ]
  },
  {
   "cell_type": "code",
   "execution_count": 5,
   "metadata": {},
   "outputs": [
    {
     "data": {
      "text/plain": [
       "[(2,\n",
       "  {'vocabs.SkosConcept_collection': 1,\n",
       "   'vocabs.SkosConcept_scheme': 0,\n",
       "   'vocabs.SkosConcept_other_label': 0,\n",
       "   'vocabs.SkosConcept_skos_broader': 0,\n",
       "   'vocabs.SkosConcept_skos_narrower': 0,\n",
       "   'vocabs.SkosConcept_skos_related': 0,\n",
       "   'vocabs.SkosConcept_skos_broadmatch': 0,\n",
       "   'vocabs.SkosConcept_skos_narrowmatch': 0,\n",
       "   'vocabs.SkosConcept_skos_exactmatch': 0,\n",
       "   'vocabs.SkosConcept_skos_relatedmatch': 0,\n",
       "   'vocabs.SkosConcept_skos_closematch': 0,\n",
       "   'vocabs.SkosConcept': 1}),\n",
       " (2,\n",
       "  {'vocabs.SkosConcept_collection': 1,\n",
       "   'vocabs.SkosConcept_scheme': 0,\n",
       "   'vocabs.SkosConcept_other_label': 0,\n",
       "   'vocabs.SkosConcept_skos_broader': 0,\n",
       "   'vocabs.SkosConcept_skos_narrower': 0,\n",
       "   'vocabs.SkosConcept_skos_related': 0,\n",
       "   'vocabs.SkosConcept_skos_broadmatch': 0,\n",
       "   'vocabs.SkosConcept_skos_narrowmatch': 0,\n",
       "   'vocabs.SkosConcept_skos_exactmatch': 0,\n",
       "   'vocabs.SkosConcept_skos_relatedmatch': 0,\n",
       "   'vocabs.SkosConcept_skos_closematch': 0,\n",
       "   'vocabs.SkosConcept': 1}),\n",
       " (2,\n",
       "  {'vocabs.SkosConcept_collection': 1,\n",
       "   'vocabs.SkosConcept_scheme': 0,\n",
       "   'vocabs.SkosConcept_other_label': 0,\n",
       "   'vocabs.SkosConcept_skos_broader': 0,\n",
       "   'vocabs.SkosConcept_skos_narrower': 0,\n",
       "   'vocabs.SkosConcept_skos_related': 0,\n",
       "   'vocabs.SkosConcept_skos_broadmatch': 0,\n",
       "   'vocabs.SkosConcept_skos_narrowmatch': 0,\n",
       "   'vocabs.SkosConcept_skos_exactmatch': 0,\n",
       "   'vocabs.SkosConcept_skos_relatedmatch': 0,\n",
       "   'vocabs.SkosConcept_skos_closematch': 0,\n",
       "   'vocabs.SkosConcept': 1}),\n",
       " (2,\n",
       "  {'vocabs.SkosConcept_collection': 1,\n",
       "   'vocabs.SkosConcept_scheme': 0,\n",
       "   'vocabs.SkosConcept_other_label': 0,\n",
       "   'vocabs.SkosConcept_skos_broader': 0,\n",
       "   'vocabs.SkosConcept_skos_narrower': 0,\n",
       "   'vocabs.SkosConcept_skos_related': 0,\n",
       "   'vocabs.SkosConcept_skos_broadmatch': 0,\n",
       "   'vocabs.SkosConcept_skos_narrowmatch': 0,\n",
       "   'vocabs.SkosConcept_skos_exactmatch': 0,\n",
       "   'vocabs.SkosConcept_skos_relatedmatch': 0,\n",
       "   'vocabs.SkosConcept_skos_closematch': 0,\n",
       "   'vocabs.SkosConcept': 1})]"
      ]
     },
     "execution_count": 5,
     "metadata": {},
     "output_type": "execute_result"
    }
   ],
   "source": [
    "[x.delete() for x in SkosConcept.objects.filter(pref_label=\"\")]"
   ]
  },
  {
   "cell_type": "code",
   "execution_count": 6,
   "metadata": {},
   "outputs": [
    {
     "data": {
      "text/plain": [
       "0"
      ]
     },
     "execution_count": 6,
     "metadata": {},
     "output_type": "execute_result"
    }
   ],
   "source": [
    "SkosConcept.objects.filter(pref_label=\"\").count()"
   ]
  },
  {
   "cell_type": "code",
   "execution_count": null,
   "metadata": {},
   "outputs": [],
   "source": []
  }
 ],
 "metadata": {
  "kernelspec": {
   "display_name": "Django Shell-Plus",
   "language": "python",
   "name": "django_extensions"
  },
  "language_info": {
   "codemirror_mode": {
    "name": "ipython",
    "version": 3
   },
   "file_extension": ".py",
   "mimetype": "text/x-python",
   "name": "python",
   "nbconvert_exporter": "python",
   "pygments_lexer": "ipython3",
   "version": "3.6.9"
  }
 },
 "nbformat": 4,
 "nbformat_minor": 4
}
