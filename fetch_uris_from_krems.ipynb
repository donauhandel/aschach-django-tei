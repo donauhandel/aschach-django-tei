{
 "cells": [
  {
   "cell_type": "code",
   "execution_count": null,
   "metadata": {},
   "outputs": [],
   "source": [
    "import glob\n",
    "import pymysql\n",
    "import pandas as pd\n",
    "from sqlalchemy import create_engine\n",
    "\n",
    "from django.core.exceptions import ObjectDoesNotExist\n",
    "from django.conf import settings"
   ]
  },
  {
   "cell_type": "code",
   "execution_count": null,
   "metadata": {},
   "outputs": [],
   "source": [
    "dbc = settings.LEGACY_DB_KREMS_CONNECTION"
   ]
  },
  {
   "cell_type": "code",
   "execution_count": null,
   "metadata": {},
   "outputs": [],
   "source": [
    "db_connection_str = f\"mysql+pymysql://{dbc['USER']}:{dbc['PASSWORD']}@{dbc['HOST']}/{dbc['NAME']}\"\n",
    "db_connection = create_engine(db_connection_str)"
   ]
  },
  {
   "cell_type": "markdown",
   "metadata": {},
   "source": [
    "# enrich places\n",
    "* fetch krems_ids from 'orte__ortsId' / 'orte__aschachId'\n",
    "* fetch matching uris from 'orte_verknuepfungen__ortsId' / 'orte_verknuepfungen__eintrag'"
   ]
  },
  {
   "cell_type": "code",
   "execution_count": null,
   "metadata": {},
   "outputs": [],
   "source": [
    "query = f\"SELECT ortsname, ortsId, aschachId FROM orte WHERE aschachId IS NOT NULL\""
   ]
  },
  {
   "cell_type": "code",
   "execution_count": null,
   "metadata": {},
   "outputs": [],
   "source": [
    "df = pd.read_sql(query, con=db_connection)"
   ]
  },
  {
   "cell_type": "code",
   "execution_count": null,
   "metadata": {},
   "outputs": [],
   "source": [
    "df.head()"
   ]
  },
  {
   "cell_type": "code",
   "execution_count": null,
   "metadata": {},
   "outputs": [],
   "source": [
    "for i, row in df.iterrows():\n",
    "    try:\n",
    "        ort = Ort.objects.get(legacy_pk=row['aschachId'])\n",
    "    except ObjectDoesNotExist:\n",
    "        print(row['ortsname'], row['aschachId'])\n",
    "        continue\n",
    "    ort.donau_normid = row['ortsId']\n",
    "    ort.save()"
   ]
  },
  {
   "cell_type": "code",
   "execution_count": null,
   "metadata": {},
   "outputs": [],
   "source": [
    "good_ids = Ort.objects.exclude(donau_normid=None).values('donau_normid')"
   ]
  },
  {
   "cell_type": "code",
   "execution_count": null,
   "metadata": {},
   "outputs": [],
   "source": [
    "good_ids = [x['donau_normid'] for x in good_ids]"
   ]
  },
  {
   "cell_type": "code",
   "execution_count": null,
   "metadata": {},
   "outputs": [],
   "source": [
    "query = f\"\"\"\n",
    "SELECT\n",
    "    ortsId,\n",
    "    eintrag,\n",
    "    art\n",
    "FROM\n",
    "    orte_verknuepfungen\n",
    "INNER JOIN\n",
    "    verknuepfungsArt ON orte_verknuepfungen.verknuepfungsArtId = verknuepfungsArt.verknuepfungsArtId\n",
    "WHERE\n",
    "    art <> 'Karte/Map' and art <> 'Google Maps'\n",
    "ORDER BY\n",
    "    ortsId \n",
    "    \n",
    "\"\"\""
   ]
  },
  {
   "cell_type": "code",
   "execution_count": null,
   "metadata": {},
   "outputs": [],
   "source": [
    "df = pd.read_sql(query, con=db_connection)"
   ]
  },
  {
   "cell_type": "code",
   "execution_count": null,
   "metadata": {},
   "outputs": [],
   "source": [
    "df.head()"
   ]
  },
  {
   "cell_type": "code",
   "execution_count": null,
   "metadata": {},
   "outputs": [],
   "source": [
    "for i, row in df.iterrows():\n",
    "    try:\n",
    "        ort = Ort.objects.get(donau_normid=row['ortsId'])\n",
    "    except ObjectDoesNotExist:\n",
    "        continue\n",
    "    try:\n",
    "        uri_str = row['eintrag'].split('\\\\')[0]\n",
    "    except AttributeError:\n",
    "        continue\n",
    "    uri, _ = Uri.objects.get_or_create(\n",
    "        uri=uri_str\n",
    "    )\n",
    "    uri.domain = row['art']\n",
    "    uri.save()\n",
    "    ort.normdata_url.add(uri)"
   ]
  },
  {
   "cell_type": "code",
   "execution_count": null,
   "metadata": {},
   "outputs": [],
   "source": []
  }
 ],
 "metadata": {
  "kernelspec": {
   "display_name": "Django Shell-Plus",
   "language": "python",
   "name": "django_extensions"
  },
  "language_info": {
   "codemirror_mode": {
    "name": "ipython",
    "version": 3
   },
   "file_extension": ".py",
   "mimetype": "text/x-python",
   "name": "python",
   "nbconvert_exporter": "python",
   "pygments_lexer": "ipython3",
   "version": "3.6.9"
  }
 },
 "nbformat": 4,
 "nbformat_minor": 4
}
