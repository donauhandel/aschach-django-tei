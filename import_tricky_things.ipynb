{
 "cells": [
  {
   "cell_type": "code",
   "execution_count": null,
   "metadata": {},
   "outputs": [],
   "source": [
    "import os\n",
    "import math\n",
    "import glob\n",
    "import pymysql\n",
    "import pandas as pd\n",
    "from sqlalchemy import create_engine\n",
    "from tqdm.notebook import tqdm\n",
    "\n",
    "\n",
    "from django.conf import settings\n",
    "from appcreator import creator\n",
    "from appcreator.import_utils import fetch_models, import_and_create_m2m, import_m2m_tables"
   ]
  },
  {
   "cell_type": "code",
   "execution_count": null,
   "metadata": {},
   "outputs": [],
   "source": [
    "dbc = settings.LEGACY_DB_CONNECTION\n",
    "sheet_id = \"1dd9OlPFYCK1bHdC8U1eax13glEitlZhTDc-Cri_qA5A\""
   ]
  },
  {
   "cell_type": "code",
   "execution_count": null,
   "metadata": {},
   "outputs": [],
   "source": [
    "db_connection_str = f\"mysql+pymysql://{dbc['USER']}:{dbc['PASSWORD']}@{dbc['HOST']}/{dbc['NAME']}\"\n",
    "db_connection = create_engine(db_connection_str)"
   ]
  },
  {
   "cell_type": "code",
   "execution_count": null,
   "metadata": {},
   "outputs": [],
   "source": [
    "query = f\"SELECT * FROM verpackung\""
   ]
  },
  {
   "cell_type": "code",
   "execution_count": null,
   "metadata": {},
   "outputs": [],
   "source": [
    "df = pd.read_sql(query, con=db_connection)"
   ]
  },
  {
   "cell_type": "code",
   "execution_count": null,
   "metadata": {},
   "outputs": [],
   "source": [
    "scheme, _ = SkosConceptScheme.objects.get_or_create(\n",
    "    dc_title='gebinde'\n",
    ")\n",
    "col, _ = SkosCollection.objects.get_or_create(\n",
    "    name='gebinde'\n",
    ")\n",
    "for i, row in df.iterrows():\n",
    "    leg_id = f\"gebinde__{float(row['verpackungId'])}\"\n",
    "    try:\n",
    "        item, _ = SkosConcept.objects.get_or_create(legacy_id=leg_id)\n",
    "    except:\n",
    "        continue\n",
    "    item.pref_label = f\"{row['verpackung']}\"\n",
    "    item.scheme.add(scheme)\n",
    "    item.collection.add(col)\n",
    "    item.save()"
   ]
  },
  {
   "cell_type": "code",
   "execution_count": null,
   "metadata": {},
   "outputs": [],
   "source": [
    "query = f\"SELECT * FROM einheiten\""
   ]
  },
  {
   "cell_type": "code",
   "execution_count": null,
   "metadata": {},
   "outputs": [],
   "source": [
    "df = pd.read_sql(query, con=db_connection)"
   ]
  },
  {
   "cell_type": "code",
   "execution_count": null,
   "metadata": {},
   "outputs": [],
   "source": [
    "for i, row in df.iterrows():\n",
    "    leg_id = f\"einheit__{float(row['einheitId'])}\"\n",
    "    try:\n",
    "        item = SkosConcept.objects.get(legacy_id=leg_id)\n",
    "    except:\n",
    "        continue\n",
    "    item.pref_label = f\"{row['einheit']}\"\n",
    "    item.save()"
   ]
  },
  {
   "cell_type": "code",
   "execution_count": null,
   "metadata": {},
   "outputs": [],
   "source": [
    "query = f\"SELECT * FROM fahrtrichtung\"\n",
    "df = pd.read_sql(query, con=db_connection)"
   ]
  },
  {
   "cell_type": "code",
   "execution_count": null,
   "metadata": {},
   "outputs": [],
   "source": [
    "for i, row in df.iterrows():\n",
    "    leg_id = f\"fahrtrichtung__{float(row['fahrtrichtungId'])}\"\n",
    "    try:\n",
    "        item = SkosConcept.objects.get(legacy_id=leg_id)\n",
    "    except:\n",
    "        continue\n",
    "    item.pref_label = f\"{row['fahrtrichtung']}\"\n",
    "    item.save()"
   ]
  },
  {
   "cell_type": "code",
   "execution_count": null,
   "metadata": {},
   "outputs": [],
   "source": [
    "query = f\"SELECT * FROM fahrzeuge_anzahlTyp\"\n",
    "df = pd.read_sql(query, con=db_connection)"
   ]
  },
  {
   "cell_type": "code",
   "execution_count": null,
   "metadata": {},
   "outputs": [],
   "source": [
    "for i, row in tqdm(df.iterrows(), total=df.shape[0]):\n",
    "    try:\n",
    "        fz = Fahrzeug.objects.get(legacy_pk=row['fahrzeugId'])\n",
    "    except:\n",
    "        continue\n",
    "    try:\n",
    "        concept, _ = SkosConcept.objects.get_or_create(\n",
    "            legacy_id=f\"schiff_typ__{float(row['fahrzeugTyp'])}\"\n",
    "        )\n",
    "    except:\n",
    "        continue\n",
    "    anzahl = f\"{row['fahrzeugAnzahl']}\"\n",
    "    if fz is not None:\n",
    "        item, _ = SchiffTyp.objects.get_or_create(\n",
    "            id=row['fahrzeug_anzahlTypId']\n",
    "        )\n",
    "        item.legacy_pk = row['fahrzeug_anzahlTypId']\n",
    "        item.legacy_id = float(row['fahrzeug_anzahlTypId'])\n",
    "        item.fahrzeug = fz\n",
    "        item.skosconcept = concept\n",
    "        item.anzahl = anzahl\n",
    "        item.save()"
   ]
  },
  {
   "cell_type": "code",
   "execution_count": null,
   "metadata": {},
   "outputs": [],
   "source": [
    "query = f\"SELECT * FROM fahrzeugTypen\"\n",
    "df = pd.read_sql(query, con=db_connection)"
   ]
  },
  {
   "cell_type": "code",
   "execution_count": null,
   "metadata": {},
   "outputs": [],
   "source": [
    "scheme, _ = SkosConceptScheme.objects.get_or_create(dc_title='schiff_typ')\n",
    "col, _ = SkosCollection.objects.get_or_create(name='schiff_typ')\n",
    "for i, row in df.iterrows():\n",
    "    leg_id = f\"schiff_typ__{float(row['fahrzeugTypId'])}\"\n",
    "    try:\n",
    "        item = SkosConcept.objects.get(legacy_id=leg_id)\n",
    "    except:\n",
    "        continue\n",
    "    item.pref_label = f\"{row['fahrzeugTyp']}\"\n",
    "    item.scheme.add(scheme)\n",
    "    item.collection.add(col)\n",
    "    item.save()"
   ]
  },
  {
   "cell_type": "code",
   "execution_count": null,
   "metadata": {},
   "outputs": [],
   "source": [
    "props = {\n",
    "    'fahrzeuge_anzahlTyp_leer': 'leer',\n",
    "    'fahrzeuge_anzahlTyp_mitGeschirr': 'geschirr',\n",
    "    'fahrzeuge_anzahlTyp_mitRossen': 'rossen',\n",
    "    'fahrzeuge_anzahlTyp_mitSG': 'mit_sg',\n",
    "    'fahrzeuge_anzahlTyp_mitSichSelbst': 'mit_sich_selbst'\n",
    "}"
   ]
  },
  {
   "cell_type": "code",
   "execution_count": null,
   "metadata": {},
   "outputs": [],
   "source": [
    "for table, prop in tqdm(props.items(), total=len(props)):\n",
    "    query = f\"SELECT * FROM {table}\"\n",
    "    df = pd.read_sql(query, con=db_connection)\n",
    "    for i, row in tqdm(df.iterrows(), total=df.shape[0]):\n",
    "        try:\n",
    "            item = SchiffTyp.objects.get(legacy_pk=row[0])\n",
    "        except:\n",
    "            continue\n",
    "        setattr(item, prop, row[1])\n",
    "        item.save()"
   ]
  },
  {
   "cell_type": "code",
   "execution_count": null,
   "metadata": {},
   "outputs": [],
   "source": [
    "query = f\"SELECT * FROM ladung_mengeVerpackung\""
   ]
  },
  {
   "cell_type": "code",
   "execution_count": null,
   "metadata": {},
   "outputs": [],
   "source": [
    "df = pd.read_sql(query, con=db_connection)"
   ]
  },
  {
   "cell_type": "code",
   "execution_count": null,
   "metadata": {},
   "outputs": [],
   "source": [
    "for i, row in tqdm(df.iterrows(), total=df.shape[0]):\n",
    "    item, _ = MengeGebinde.objects.get_or_create(\n",
    "        legacy_pk=row['ladung_mengeVerpackungId']\n",
    "    )\n",
    "    item.legacy_id = float(row['ladung_mengeVerpackungId'])\n",
    "    try:\n",
    "        ladung = Ladung.objects.get(legacy_pk=row['ladungId'])\n",
    "        item.ladung = ladung\n",
    "    except:\n",
    "        pass\n",
    "    item.menge = f\"{row['menge']}\"\n",
    "    try:\n",
    "        concept = SkosConcept.objects.get(legacy_id=f\"gebinde__{float(row['gebinde'])}\")\n",
    "        item.gebinde = concept\n",
    "    except:\n",
    "        pass\n",
    "    item.save()\n",
    "    ladung.menge_gebinde.add(item)"
   ]
  },
  {
   "cell_type": "code",
   "execution_count": null,
   "metadata": {},
   "outputs": [],
   "source": [
    "# if the previous cell worked, executing this cell should not be necessary\n",
    "# for i, row in tqdm(df.iterrows(), total=df.shape[0]):\n",
    "#     try:\n",
    "#         ladung = Ladung.objects.get(legacy_pk=row['ladungId'])\n",
    "#     except:\n",
    "#         continue\n",
    "#     item = MengeGebinde.objects.get(\n",
    "#         legacy_pk=row['ladung_mengeVerpackungId']\n",
    "#     )\n",
    "#     ladung.menge_gebinde.add(item)"
   ]
  },
  {
   "cell_type": "code",
   "execution_count": null,
   "metadata": {},
   "outputs": [],
   "source": [
    "ladung.menge_gebinde.all()"
   ]
  },
  {
   "cell_type": "code",
   "execution_count": null,
   "metadata": {},
   "outputs": [],
   "source": [
    "query = f\"SELECT * FROM personen_herkunft\"\n",
    "df = pd.read_sql(query, con=db_connection)"
   ]
  },
  {
   "cell_type": "code",
   "execution_count": null,
   "metadata": {},
   "outputs": [],
   "source": [
    "for i, row in tqdm(df.iterrows(), total=df.shape[0]):\n",
    "    try:\n",
    "        person = Person.objects.get(legacy_pk=row['personenId'])\n",
    "    except:\n",
    "        continue\n",
    "    try:\n",
    "        place = Ort.objects.get(legacy_pk=row['herkunft'])\n",
    "    except:\n",
    "        continue\n",
    "    person.herkunft = place\n",
    "    person.save()"
   ]
  }
 ],
 "metadata": {
  "kernelspec": {
   "display_name": "Django Shell-Plus",
   "language": "python",
   "name": "django_extensions"
  },
  "language_info": {
   "codemirror_mode": {
    "name": "ipython",
    "version": 3
   },
   "file_extension": ".py",
   "mimetype": "text/x-python",
   "name": "python",
   "nbconvert_exporter": "python",
   "pygments_lexer": "ipython3",
   "version": "3.6.9"
  }
 },
 "nbformat": 4,
 "nbformat_minor": 4
}
