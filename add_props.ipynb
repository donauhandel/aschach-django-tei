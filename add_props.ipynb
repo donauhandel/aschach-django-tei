{
 "cells": [
  {
   "cell_type": "markdown",
   "metadata": {},
   "source": [
    "# import properties from different tables"
   ]
  },
  {
   "cell_type": "code",
   "execution_count": null,
   "metadata": {},
   "outputs": [],
   "source": [
    "import os\n",
    "import math\n",
    "import glob\n",
    "import pymysql\n",
    "import pandas as pd\n",
    "from sqlalchemy import create_engine\n",
    "\n",
    "from tqdm.notebook import tqdm\n",
    "from django.conf import settings\n",
    "from appcreator import creator\n",
    "from appcreator.import_utils import fetch_models, import_and_create_m2m, import_m2m_tables"
   ]
  },
  {
   "cell_type": "code",
   "execution_count": null,
   "metadata": {},
   "outputs": [],
   "source": [
    "app_name = 'aschach'"
   ]
  },
  {
   "cell_type": "code",
   "execution_count": null,
   "metadata": {},
   "outputs": [],
   "source": [
    "dbc = settings.LEGACY_DB_CONNECTION\n",
    "sheet_id = \"1dd9OlPFYCK1bHdC8U1eax13glEitlZhTDc-Cri_qA5A\""
   ]
  },
  {
   "cell_type": "code",
   "execution_count": null,
   "metadata": {},
   "outputs": [],
   "source": [
    "db_connection_str = f\"mysql+pymysql://{dbc['USER']}:{dbc['PASSWORD']}@{dbc['HOST']}/{dbc['NAME']}\"\n",
    "db_connection = create_engine(db_connection_str)"
   ]
  },
  {
   "cell_type": "code",
   "execution_count": null,
   "metadata": {},
   "outputs": [],
   "source": [
    "df = creator.gsheet_to_df(sheet_id)"
   ]
  },
  {
   "cell_type": "code",
   "execution_count": null,
   "metadata": {},
   "outputs": [],
   "source": [
    "prop_row = df[\"value from\"].str.contains('#Property') "
   ]
  },
  {
   "cell_type": "code",
   "execution_count": null,
   "metadata": {},
   "outputs": [],
   "source": [
    "custom_filter = df['field name technical'].str.contains('^maut_s')"
   ]
  },
  {
   "cell_type": "code",
   "execution_count": null,
   "metadata": {},
   "outputs": [],
   "source": [
    "props = df[custom_filter]"
   ]
  },
  {
   "cell_type": "code",
   "execution_count": null,
   "metadata": {},
   "outputs": [],
   "source": [
    "# props = df[prop_row]"
   ]
  },
  {
   "cell_type": "code",
   "execution_count": null,
   "metadata": {},
   "outputs": [],
   "source": [
    "props"
   ]
  },
  {
   "cell_type": "code",
   "execution_count": null,
   "metadata": {},
   "outputs": [],
   "source": [
    "model_dict = {x.__name__: x for x in fetch_models(app_name)}\n",
    "for i, row in props.tail(1).iterrows():\n",
    "    class_name = row['class name technical']\n",
    "    cur_class = model_dict[class_name]\n",
    "    try:\n",
    "        prop_lit = row['value from'].split('#')[1]\n",
    "    except IndexError:\n",
    "        prop_lit = None\n",
    "    table, prop_1, prop_2 = row['value from'].split('___')\n",
    "    prop_2 = prop_2.split('#')[0]\n",
    "    query = f\"SELECT * FROM {table}\"\n",
    "    cur_model_attr = row['field name technical']\n",
    "    field_type_source = row['field type']\n",
    "    cur_class_nat_pk = cur_class.get_natural_primary_key()\n",
    "    print(class_name, cur_class, cur_model_attr, table, prop_1, prop_2)\n",
    "    data_source = pd.read_sql(query, con=db_connection)\n",
    "    data_source = data_source[[prop_1, prop_2]].dropna()\n",
    "    for ds_i, ds_row in tqdm(data_source.iterrows(), total=data_source.shape[0]):\n",
    "        try:\n",
    "            legacy_id_source = f\"{float(ds_row[prop_1])}\"\n",
    "        except:\n",
    "            continue\n",
    "        try:\n",
    "            curr_source = cur_class.objects.get(legacy_id=legacy_id_source)\n",
    "        except Exception as e:\n",
    "            curr_source = None\n",
    "            continue\n",
    "#             print(e)\n",
    "#             print(f\"no object of class {cur_class} with legacy_id {legacy_id_source} found\")\n",
    "        if curr_source is not None:\n",
    "            my_val = ds_row[prop_2]\n",
    "\n",
    "            if field_type_source.startswith('FK'):\n",
    "                if cur_class_nat_pk == 'legacy_id':\n",
    "                    my_val = f\"{float(ds_row[prop_2])}\"\n",
    "                else:\n",
    "                    my_val = ds_row[prop_2]\n",
    "#                 print('ForeignKey')\n",
    "                fk = cur_class._meta.get_field(cur_model_attr)\n",
    "                rel_model_name = fk.related_model._meta.model_name\n",
    "                kwargs = {cur_class_nat_pk: my_val}\n",
    "                try:\n",
    "                    temp_rel_obj = fk.related_model.objects.get(**kwargs)\n",
    "                except Exception as e:\n",
    "#                     print('###############')\n",
    "#                     print(e)\n",
    "#                     print(class_name, cur_class, cur_model_attr, table, prop_1, prop_2)\n",
    "#                     print('###############')\n",
    "                    temp_rel_obj = None\n",
    "                if temp_rel_obj is not None:\n",
    "                    setattr(curr_source, cur_model_attr, temp_rel_obj)\n",
    "                    \n",
    "            else:\n",
    "                setattr(curr_source, cur_model_attr, my_val)\n",
    "            curr_source.save()"
   ]
  },
  {
   "cell_type": "code",
   "execution_count": null,
   "metadata": {},
   "outputs": [],
   "source": []
  }
 ],
 "metadata": {
  "kernelspec": {
   "display_name": "Django Shell-Plus",
   "language": "python",
   "name": "django_extensions"
  },
  "language_info": {
   "codemirror_mode": {
    "name": "ipython",
    "version": 3
   },
   "file_extension": ".py",
   "mimetype": "text/x-python",
   "name": "python",
   "nbconvert_exporter": "python",
   "pygments_lexer": "ipython3",
   "version": "3.6.9"
  }
 },
 "nbformat": 4,
 "nbformat_minor": 4
}
